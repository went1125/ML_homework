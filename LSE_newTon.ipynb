{
 "cells": [
  {
   "cell_type": "code",
   "execution_count": 5,
   "metadata": {},
   "outputs": [],
   "source": [
    "import numpy as np\n",
    "import matplotlib.pyplot as plt\n",
    "\n",
    "def transpose(A):\n",
    "    rows = len(A)\n",
    "    cols = len(A[0])\n",
    "    ret = np.empty(shape=[cols, rows])\n",
    "    for r in range(rows):\n",
    "        for c in range(cols):\n",
    "            ret[c][r] = A[r][c]\n",
    "    return ret\n",
    "\n",
    "def matrixsMultiplication(A, B):\n",
    "    rows = len(A)\n",
    "    cols = len(B[0])\n",
    "    ret = np.zeros(shape=[rows, cols])\n",
    "    for r in range(rows):\n",
    "        for c in range(cols):\n",
    "            for k in range(len(A[0])):\n",
    "                ret[r][c] = ret[r][c] + A[r][k] * B[k][c]\n",
    "    return ret\n",
    "\n",
    "def LU_decomposition(A):\n",
    "    n = len(A)\n",
    "    #initialize L and U\n",
    "    L = np.eye(n)\n",
    "    U = np.array(A, copy=True) \n",
    "    #Using Gaussion to find LU decomposition.\n",
    "    for i in range(n):\n",
    "        for k in range(i+1, n):\n",
    "            if U[k][i] == 0:\n",
    "                continue\n",
    "            multiplier = U[k][i] / U[i][i]\n",
    "            L[k][i] = multiplier # store multiplier.\n",
    "            U[k] = U[k] - U[i] * multiplier\n",
    "            U[k][i] = 0\n",
    "    return [L, U]\n",
    "\n",
    "def LU_substitution(A):\n",
    "    n = len(A)\n",
    "    L, U = LU_decomposition(A)\n",
    "    b = np.eye(n)\n",
    "    ##Ly = b substitution\n",
    "    y = np.empty([n, n])\n",
    "    for i in range(n):\n",
    "        for j in range(n):\n",
    "            y[j][i] = b[j][i]\n",
    "            for k in range(j):\n",
    "                y[j][i] -= y[k][i]*L[j][k]\n",
    "    ##First substitution end\n",
    "    \n",
    "    ##Ux = y substitution\n",
    "    x = np.empty([n, n])\n",
    "    for i in range(n):\n",
    "        for j in range(n-1, -1, -1):\n",
    "            x[j][i] = y[j][i] / U[j][j]\n",
    "            for k in range(j+1, n):\n",
    "                x[j][i] -= x[k][i] * (U[j][k]/U[j][j])\n",
    "    ##Second substitution end\n",
    "    return x\n",
    "    \n",
    "def linearRegression(file_path, bases, lamda):\n",
    "    \"\"\"DATA AND MATRIXS INITIALIZE\"\"\"\n",
    "    #data is a n*2 matrixs.\n",
    "    data = np.loadtxt(file_path, delimiter = ', ')\n",
    "    n = len(data)\n",
    "    a = data[:, [0]].reshape(1*n);\n",
    "    b = data[:, [1]];\n",
    "    #A will be a n*bases matrix.\n",
    "    A = np.empty(shape=[n, bases])\n",
    "    for r in range(n):\n",
    "        x = 1\n",
    "        for c in range(bases):\n",
    "            A[r][bases-c-1] = x\n",
    "            x = x * a[r]\n",
    "    #I will be an identity matrix.\n",
    "    I = np.eye(bases)\n",
    "    \"\"\"INITIALIZE END\"\"\"\n",
    "    \n",
    "    \"\"\"RLSE IMPLEMENTATION\"\"\"\n",
    "    #Here is (AT dot A) + (lamda * I)\n",
    "    ATA = matrixsMultiplication(transpose(A), A)\n",
    "    inverse_target = ATA + (lamda * I)\n",
    "    inversed = LU_substitution(inverse_target)\n",
    "    #OK let's compute the weights\n",
    "    left = matrixsMultiplication(inversed, transpose(A))\n",
    "    w_rlse = matrixsMultiplication(left, b)\n",
    "    rlsePrediction = matrixsMultiplication(A, w_rlse)\n",
    "    \"\"\"RLSE END\"\"\"\n",
    "    \n",
    "    \"\"\"NEWTONS OPTIMIZE IMPLEMENTAION\"\"\"\n",
    "    x = np.zeros(shape=[bases, 1])\n",
    "    while True:\n",
    "        gradiant =2*matrixsMultiplication(ATA, x) - 2*matrixsMultiplication(transpose(A), b)\n",
    "        hessionFunction = 2*ATA\n",
    "        x_next = x - matrixsMultiplication(LU_substitution(hessionFunction), gradiant)\n",
    "        if np.sum(x_next - x) < 0.001:\n",
    "            break\n",
    "        else:\n",
    "            x = x_next\n",
    "    newtonsPrediciotn = matrixsMultiplication(A, x_next)\n",
    "    \"\"\"NEWTONS OPTIMIZE END\"\"\"\n",
    "    \n",
    "    return [a, rlsePrediction, newtonsPrediciotn,  b]\n",
    "\n",
    "def getResult(result):\n",
    "    x = result[0]\n",
    "    rlsePrediction = result[1]\n",
    "    newtonsPrediciotn = result[2]\n",
    "    groundTruth = result[3]\n",
    "    ##RLSE RESULT\n",
    "    rlse = round(np.sum((groundTruth - rlsePrediction)**2), 4) ## rounding for 4 precision\n",
    "    print('Least square Error of RLSE and picture:', rlse)\n",
    "    plt.figure(1)\n",
    "    plt.plot(x, rlsePrediction)\n",
    "    plt.scatter(x, groundTruth, label='point', marker='o', color='red')\n",
    "    ###NEWTON RESULT\n",
    "    newton = round(np.sum((groundTruth - newtonsPrediciotn)**2), 4) ## rounding for 4 precision\n",
    "    print('Least square Error of newtonMethod and picture:', newton)\n",
    "    plt.figure(2)\n",
    "    plt.plot(x, newtonsPrediciotn)\n",
    "    plt.scatter(x, groundTruth, label='point', marker='x', color='red')\n",
    "    "
   ]
  },
  {
   "cell_type": "code",
   "execution_count": 6,
   "metadata": {},
   "outputs": [
    {
     "name": "stdout",
     "output_type": "stream",
     "text": [
      "Least square Error of RLSE and picture: 2.3026\n",
      "Least square Error of newtonMethod and picture: 0.0\n"
     ]
    },
    {
     "data": {
      "image/png": "[encoded data removed]",
      "text/plain": [
       "<Figure size 432x288 with 1 Axes>"
      ]
     },
     "metadata": {},
     "output_type": "display_data"
    },
    {
     "data": {
      "image/png": "[encoded data removed]",
      "text/plain": [
       "<Figure size 432x288 with 1 Axes>"
      ]
     },
     "metadata": {},
     "output_type": "display_data"
    }
   ],
   "source": [
    "LSE_result = linearRegression('C:\\\\Users\\\\went1\\\\Desktop\\\\ml_practice\\\\data.txt', 5, 3)\n",
    "getResult(LSE_result)"
   ]
  },
  {
   "cell_type": "code",
   "execution_count": null,
   "metadata": {},
   "outputs": [],
   "source": []
  }
 ],
 "metadata": {
  "kernelspec": {
   "display_name": "Python 3",
   "language": "python",
   "name": "python3"
  },
  "language_info": {
   "codemirror_mode": {
    "name": "ipython",
    "version": 3
   },
   "file_extension": ".py",
   "mimetype": "text/x-python",
   "name": "python",
   "nbconvert_exporter": "python",
   "pygments_lexer": "ipython3",
   "version": "3.6.5"
  }
 },
 "nbformat": 4,
 "nbformat_minor": 2
}

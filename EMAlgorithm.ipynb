{
 "cells": [
  {
   "cell_type": "code",
   "execution_count": 2,
   "metadata": {},
   "outputs": [],
   "source": [
    "from IPython.display import clear_output\n",
    "from dataGenerator import normal\n",
    "from mnistDataLoder import *\n",
    "import pandas as pd\n",
    "import seaborn as sn\n",
    "import numpy as np\n",
    "import matplotlib.pyplot as plt\n",
    "import time"
   ]
  },
  {
   "cell_type": "code",
   "execution_count": 3,
   "metadata": {},
   "outputs": [],
   "source": [
    "class logisticRegression:\n",
    "    def __init__(self, mx1, vx1, my1, vy1, mx2, vx2, my2, vy2, size):\n",
    "        self.mean_x1 = mx1\n",
    "        self.var_x1 = vx1\n",
    "        self.mean_y1 = my1\n",
    "        self.var_y1 = vy1\n",
    "        self.mean_x2 = mx2\n",
    "        self.var_x2 = vx2\n",
    "        self.mean_y2 = my2\n",
    "        self.var_y2 = vy2\n",
    "        self.n = size\n",
    "        self.W = np.zeros([3, 1])\n",
    "           \n",
    "    def _generateData(self):\n",
    "        self.x1 = normal(self.mean_x1, self.var_x1, self.n)\n",
    "        self.y1 = normal(self.mean_y1, self.var_y1, self.n)\n",
    "        self.classZero = np.zeros(self.n)\n",
    "        self.x2 = normal(self.mean_x2, self.var_x2, self.n)\n",
    "        self.y2 = normal(self.mean_y2, self.var_y2, self.n)\n",
    "        self.classOne = np.ones(self.n)\n",
    "    \n",
    "    def _makeDesignMatrix(self):\n",
    "        constantSet = np.ones(2 * self.n)\n",
    "        featureOneSet = np.concatenate((self.x1, self.x2), axis=None)\n",
    "        featureTwoSet = np.concatenate((self.y1, self.y2), axis=None)\n",
    "        y = np.concatenate((self.classZero, self.classOne), axis=None)\n",
    "        data = np.column_stack((constantSet, featureOneSet, featureTwoSet, y))\n",
    "        data = data[np.argsort(data[:, 1])]\n",
    "        self.X = data[:, 0:3]\n",
    "        self.y = data[:, 3]\n",
    "        self.y = np.reshape(self.y, (200, 1))\n",
    "\n",
    "    def _makeGradient(self, X, y):\n",
    "        right = y - (1 / (1 + np.exp(-np.matmul(X, self.W))))\n",
    "        gradient = np.matmul(np.transpose(X), right)\n",
    "        return gradient\n",
    "    \n",
    "    def _makeHession(self, X):\n",
    "        D = np.zeros([len(X), len(X)])\n",
    "        \n",
    "        for i in range(len(X)):\n",
    "            alpha = 1 / (1 + np.exp(-np.matmul(X[i], self.W)))\n",
    "            D[i][i] = alpha * (1 - alpha)\n",
    "                \n",
    "        hession = np.matmul(np.transpose(X), D)\n",
    "        hession = np.matmul(hession, X)\n",
    "        \n",
    "        return hession\n",
    "\n",
    "    def drawData(self):\n",
    "        self._generateData()\n",
    "        plt.scatter(self.x1, self.y1, facecolors='none', edgecolors='green', marker='o')\n",
    "        plt.scatter(self.x2, self.y2, color='blue', marker='+')\n",
    "        \n",
    "    def fit(self):\n",
    "        self._makeDesignMatrix()       \n",
    "        delta_w = np.Infinity\n",
    "        threshold = 1e-10\n",
    "        \n",
    "        while delta_w > threshold:\n",
    "            gradient = self._makeGradient(self.X, self.y)\n",
    "            hession = self._makeHession(self.X)\n",
    "            \n",
    "            if np.linalg.det(hession) > 0:\n",
    "                learningRate = np.linalg.inv(hession)\n",
    "            else:\n",
    "                learningRate = 1e-5\n",
    "            \n",
    "            w_new = self.W + np.dot(learningRate, gradient)\n",
    "            delta_w = np.abs(np.sum(self.W - w_new))\n",
    "            self.W = w_new\n",
    "    \n",
    "    \n",
    "    def getResult(self):\n",
    "        predictOneIndices, _ = np.where((1 / (1 + np.exp(-np.dot(self.X, self.W)))) <= 1e-5)\n",
    "        predictTwoIndices, _ = np.where((1 / (1 + np.exp(-np.dot(self.X, self.W)))) > 1e-3)\n",
    "        print(predictOneIndices)\n",
    "        print(predictTwoIndices)\n",
    "        \n",
    "        TP = len(np.where(predictOneIndices < self.n)[0])\n",
    "        FP = len(np.where(predictOneIndices >=  self.n)[0])\n",
    "        FN = len(np.where(predictTwoIndices < self.n)[0]) \n",
    "        TN = len(np.where(predictTwoIndices >= self.n)[0]) \n",
    "        \n",
    "        confusionMatrix = [[TP, FP], [FN, TN]]\n",
    "        confusionMatrixPlot = pd.DataFrame(confusionMatrix, index = ['Yes', 'No'], columns = ['Yes', 'No'])\n",
    "        plt.figure(figsize = (2, 2))\n",
    "        sn.heatmap(confusionMatrixPlot, annot=True)\n",
    "        plt.show()\n",
    "        print('Accuracy=', (TP + TN) / (2 * self.n))\n",
    "        print('Sensitivity=', TP / (TP + FN))\n",
    "        print('Specificity=', TN / (FP + TN))"
   ]
  },
  {
   "cell_type": "code",
   "execution_count": 4,
   "metadata": {},
   "outputs": [
    {
     "data": {
      "image/png": "[encoded data removed]",
      "text/plain": [
       "<Figure size 432x288 with 1 Axes>"
      ]
     },
     "metadata": {},
     "output_type": "display_data"
    }
   ],
   "source": [
    "model = logisticRegression(1, 2, 3, 4, 8, 2, 7, 4, 100)\n",
    "model.drawData()"
   ]
  },
  {
   "cell_type": "code",
   "execution_count": 5,
   "metadata": {},
   "outputs": [
    {
     "name": "stdout",
     "output_type": "stream",
     "text": [
      "[ 0  1  2  3  4  5  6  7  8  9 10 11 12 13 14 15 16 17 18 19 20 21 22 23\n",
      " 24 25 26 27 28 29 30 31 32 33 34 35 36 37 38 39 40 41 42 43 44 45 46 47\n",
      " 48 49 50 51 52 53 54 55 56 57 58 59 60 61 62 63 64 65 66 67 68 69 70 71\n",
      " 72 73 74 75 76 77 78 79 80 81 82 83 84 85 86 87 88 89 90 91 92 93 94 95\n",
      " 96 97 98 99]\n",
      "[100 101 102 103 104 105 106 107 108 109 110 111 112 113 114 115 116 117\n",
      " 118 119 120 121 122 123 124 125 126 127 128 129 130 131 132 133 134 135\n",
      " 136 137 138 139 140 141 142 143 144 145 146 147 148 149 150 151 152 153\n",
      " 154 155 156 157 158 159 160 161 162 163 164 165 166 167 168 169 170 171\n",
      " 172 173 174 175 176 177 178 179 180 181 182 183 184 185 186 187 188 189\n",
      " 190 191 192 193 194 195 196 197 198 199]\n"
     ]
    },
    {
     "data": {
      "image/png": "[encoded data removed]",
      "text/plain": [
       "<Figure size 144x144 with 2 Axes>"
      ]
     },
     "metadata": {},
     "output_type": "display_data"
    },
    {
     "name": "stdout",
     "output_type": "stream",
     "text": [
      "Accuracy= 1.0\n",
      "Sensitivity= 1.0\n",
      "Specificity= 1.0\n"
     ]
    }
   ],
   "source": [
    "model.fit()\n",
    "model.getResult()"
   ]
  },
  {
   "cell_type": "code",
   "execution_count": 6,
   "metadata": {},
   "outputs": [],
   "source": [
    "class BernuliiMixtureModel:\n",
    "    def __init__(self, X, y):\n",
    "        self.X, self.y = X, y\n",
    "        #assumptoin parameters\n",
    "        self.lamda = np.zeros(10) + 0.1\n",
    "        self.W = np.zeros([60000, 10])\n",
    "        self.P = np.zeros([10, 784]) + np.random.uniform(0, 1, (10, 784))\n",
    "        \n",
    "    def _normalizePixel(self):\n",
    "        self.X = np.floor(self.X / 128)\n",
    "\n",
    "    def _getWeight(self):\n",
    "        for i in range(60000):\n",
    "            x = self.X[i]\n",
    "            weightVector = np.empty(10)\n",
    "            weightVector = self.lamda * np.prod(np.power(self.P, x.T) * np.power(1-self.P, 1-x.T), axis=1) + 1e-323\n",
    "            weightSum = np.sum(weightVector)\n",
    "            self.W[i] = weightVector / weightSum\n",
    "            \n",
    "    def _updateParameters(self):\n",
    "        for i in range(10):\n",
    "            w = self.W[:, i]\n",
    "            m = np.sum(w)\n",
    "            self.lamda[i] = m / 60000\n",
    "            self.P[i] = np.dot(w, self.X) / m\n",
    "\n",
    "    def _visualizeCluster(self):\n",
    "        for i in range(10):\n",
    "            plt.subplot(2, 5, i + 1)\n",
    "            plt.imshow(self.P[i].reshape(28, 28), cmap='gray',vmax=1, vmin=0)\n",
    "\n",
    "    def fit(self):\n",
    "        self._normalizePixel()\n",
    "        previous = 0\n",
    "        delta = np.Infinity\n",
    "        i = 0\n",
    "        \n",
    "        while i < 20 or delta > 50:\n",
    "            clear_output(wait=True)\n",
    "            self._getWeight()\n",
    "            self._updateParameters()\n",
    "            self._visualizeCluster()\n",
    "                    \n",
    "            predictClusters = np.argmax(self.W , axis=1)\n",
    "            predictClustersCount = np.bincount(predictClusters)\n",
    "            delta = np.sum(np.abs(predictClustersCount - previous))\n",
    "            previous = predictClustersCount\n",
    "            \n",
    "            print('Iteration:', i+1)  \n",
    "            print('Totoal Result=', predictClustersCount, 'Delta=', delta)\n",
    "            plt.show()\n",
    "            i += 1\n",
    "                \n",
    "    def getResult(self):\n",
    "        predictClusters = np.argmax(self.W, axis = 1)\n",
    "        print('Clusters final result=', np.bincount(predictClusters))\n",
    "        predictionLabel = np.zeros(10) ## predict real label 1~10 for wi to w10\n",
    "        for i in range(10):\n",
    "            realLabelIndices = np.where(self.y == i)[0]\n",
    "            predictionList = predictClusters[realLabelIndices]\n",
    "            predictionLabel[i] = np.argmax(np.bincount(predictionList))\n",
    "        print(predictionLabel)\n",
    "        \n",
    "        for i in range(10):\n",
    "            realLabelIndices = np.where(self.y == i)[0]\n",
    "            realLabelIndicesInvert = np.where(self.y != i)[0]\n",
    "\n",
    "            predLabelIndices = np.where(predictClusters == predictionLabel[i])[0]\n",
    "            predLabelIndicesInvert = np.where(predictClusters != predictionLabel[i])[0]\n",
    "\n",
    "            TP = len(np.where(np.in1d(predLabelIndices, realLabelIndices))[0])\n",
    "            TN = len(np.where(np.in1d(predLabelIndicesInvert, realLabelIndicesInvert))[0])\n",
    "\n",
    "            FP = len(np.where(np.in1d(predLabelIndices, realLabelIndicesInvert))[0])\n",
    "            FN = len(np.where(np.in1d(predLabelIndicesInvert, realLabelIndices))[0])\n",
    "            \n",
    "            print('Confusion matrix of digit:', i)\n",
    "            confusionMatrix = [[TP, FP], [FN, TN]]\n",
    "            confusionMatrixPlot = pd.DataFrame(confusionMatrix, index = ['Yes', 'No'],\n",
    "                  columns = ['Yes', 'No'])\n",
    "            plt.figure(figsize = (2, 2))\n",
    "            sn.heatmap(confusionMatrixPlot, annot=True)\n",
    "            plt.show()\n",
    "            print('Accuracy=', (TP + TN) / 60000)\n",
    "            print('Sensitivity=', TP / (TP + FN))\n",
    "            print('Specificity=', TN / (FP + TN))\n",
    "            "
   ]
  },
  {
   "cell_type": "code",
   "execution_count": null,
   "metadata": {},
   "outputs": [
    {
     "name": "stdout",
     "output_type": "stream",
     "text": [
      "Iteration: 38\n",
      "Totoal Result= [5894 6360 6725    0 8714 9486 6963 5755 4981 5122] Delta= 166\n"
     ]
    },
    {
     "data": {
      "image/png": "[encoded data removed]",
      "text/plain": [
       "<Figure size 432x288 with 10 Axes>"
      ]
     },
     "metadata": {},
     "output_type": "display_data"
    }
   ],
   "source": [
    "X, y = loadTrainData()\n",
    "bmm = BernuliiMixtureModel(X, y)\n",
    "bmm.fit()"
   ]
  },
  {
   "cell_type": "code",
   "execution_count": null,
   "metadata": {},
   "outputs": [],
   "source": [
    "bmm.getResult()"
   ]
  },
  {
   "cell_type": "code",
   "execution_count": null,
   "metadata": {},
   "outputs": [],
   "source": []
  }
 ],
 "metadata": {
  "kernelspec": {
   "display_name": "Python 3",
   "language": "python",
   "name": "python3"
  },
  "language_info": {
   "codemirror_mode": {
    "name": "ipython",
    "version": 3
   },
   "file_extension": ".py",
   "mimetype": "text/x-python",
   "name": "python",
   "nbconvert_exporter": "python",
   "pygments_lexer": "ipython3",
   "version": "3.6.5"
  }
 },
 "nbformat": 4,
 "nbformat_minor": 2
}
